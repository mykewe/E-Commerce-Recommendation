{
 "cells": [
  {
   "cell_type": "markdown",
   "id": "ea726624",
   "metadata": {},
   "source": [
    "The goal of this project is to create an e-commerce recommender system using data from the e-commerce website http://ecom.uelstore.com/. Using collaborative filtering, the recommender is created and implemented. This dataset for a product recommendation system contains user ratings for a specific product. Based on how closely related the rated products are, the system will try to recommend products to current users."
   ]
  },
  {
   "cell_type": "code",
   "execution_count": 2,
   "id": "624c646e",
   "metadata": {},
   "outputs": [],
   "source": [
    "#Import libraries\n",
    "import pandas as pd\n",
    "from surprise import Reader"
   ]
  },
  {
   "cell_type": "markdown",
   "id": "6f9b8b2c",
   "metadata": {},
   "source": [
    "##### Customer data"
   ]
  },
  {
   "cell_type": "code",
   "execution_count": 5,
   "id": "14962717",
   "metadata": {},
   "outputs": [],
   "source": [
    "customers=pd.read_json(\"data/customers.json\")"
   ]
  },
  {
   "cell_type": "code",
   "execution_count": 6,
   "id": "1af42a05",
   "metadata": {},
   "outputs": [
    {
     "data": {
      "text/plain": [
       "1356"
      ]
     },
     "execution_count": 6,
     "metadata": {},
     "output_type": "execute_result"
    }
   ],
   "source": [
    "customers.size"
   ]
  },
  {
   "cell_type": "code",
   "execution_count": 7,
   "id": "74b5ced3",
   "metadata": {},
   "outputs": [
    {
     "data": {
      "text/html": [
       "<div>\n",
       "<style scoped>\n",
       "    .dataframe tbody tr th:only-of-type {\n",
       "        vertical-align: middle;\n",
       "    }\n",
       "\n",
       "    .dataframe tbody tr th {\n",
       "        vertical-align: top;\n",
       "    }\n",
       "\n",
       "    .dataframe thead th {\n",
       "        text-align: right;\n",
       "    }\n",
       "</style>\n",
       "<table border=\"1\" class=\"dataframe\">\n",
       "  <thead>\n",
       "    <tr style=\"text-align: right;\">\n",
       "      <th></th>\n",
       "      <th>Id</th>\n",
       "      <th>NickName</th>\n",
       "    </tr>\n",
       "  </thead>\n",
       "  <tbody>\n",
       "    <tr>\n",
       "      <th>0</th>\n",
       "      <td>103603</td>\n",
       "      <td>1000kgthanh</td>\n",
       "    </tr>\n",
       "    <tr>\n",
       "      <th>1</th>\n",
       "      <td>103760</td>\n",
       "      <td>999999999ok</td>\n",
       "    </tr>\n",
       "    <tr>\n",
       "      <th>2</th>\n",
       "      <td>103829</td>\n",
       "      <td>ac7ive</td>\n",
       "    </tr>\n",
       "    <tr>\n",
       "      <th>3</th>\n",
       "      <td>1</td>\n",
       "      <td>admin</td>\n",
       "    </tr>\n",
       "    <tr>\n",
       "      <th>4</th>\n",
       "      <td>103839</td>\n",
       "      <td>ahkk.nguyen</td>\n",
       "    </tr>\n",
       "  </tbody>\n",
       "</table>\n",
       "</div>"
      ],
      "text/plain": [
       "       Id     NickName\n",
       "0  103603  1000kgthanh\n",
       "1  103760  999999999ok\n",
       "2  103829       ac7ive\n",
       "3       1        admin\n",
       "4  103839  ahkk.nguyen"
      ]
     },
     "execution_count": 7,
     "metadata": {},
     "output_type": "execute_result"
    }
   ],
   "source": [
    "customers.head()"
   ]
  },
  {
   "cell_type": "markdown",
   "id": "655cd7d1",
   "metadata": {},
   "source": [
    "##### Product data"
   ]
  },
  {
   "cell_type": "code",
   "execution_count": 9,
   "id": "cf424a1f",
   "metadata": {},
   "outputs": [],
   "source": [
    "products=pd.read_json(\"data/products.json\")"
   ]
  },
  {
   "cell_type": "code",
   "execution_count": 10,
   "id": "3db92394",
   "metadata": {},
   "outputs": [
    {
     "data": {
      "text/plain": [
       "2073"
      ]
     },
     "execution_count": 10,
     "metadata": {},
     "output_type": "execute_result"
    }
   ],
   "source": [
    "products.size"
   ]
  },
  {
   "cell_type": "code",
   "execution_count": 11,
   "id": "4aade4f1",
   "metadata": {},
   "outputs": [
    {
     "data": {
      "text/html": [
       "<div>\n",
       "<style scoped>\n",
       "    .dataframe tbody tr th:only-of-type {\n",
       "        vertical-align: middle;\n",
       "    }\n",
       "\n",
       "    .dataframe tbody tr th {\n",
       "        vertical-align: top;\n",
       "    }\n",
       "\n",
       "    .dataframe thead th {\n",
       "        text-align: right;\n",
       "    }\n",
       "</style>\n",
       "<table border=\"1\" class=\"dataframe\">\n",
       "  <thead>\n",
       "    <tr style=\"text-align: right;\">\n",
       "      <th></th>\n",
       "      <th>Id</th>\n",
       "      <th>Name</th>\n",
       "      <th>UnitPrice</th>\n",
       "    </tr>\n",
       "  </thead>\n",
       "  <tbody>\n",
       "    <tr>\n",
       "      <th>0</th>\n",
       "      <td>1</td>\n",
       "      <td>Build your own computer</td>\n",
       "      <td>1200.0</td>\n",
       "    </tr>\n",
       "    <tr>\n",
       "      <th>1</th>\n",
       "      <td>2</td>\n",
       "      <td>Digital Storm VANQUISH 3 Custom Performance PC</td>\n",
       "      <td>1259.0</td>\n",
       "    </tr>\n",
       "    <tr>\n",
       "      <th>2</th>\n",
       "      <td>3</td>\n",
       "      <td>Lenovo IdeaCentre 600 All-in-One PC</td>\n",
       "      <td>500.0</td>\n",
       "    </tr>\n",
       "    <tr>\n",
       "      <th>3</th>\n",
       "      <td>4</td>\n",
       "      <td>Apple MacBook Pro 13-inch</td>\n",
       "      <td>1800.0</td>\n",
       "    </tr>\n",
       "    <tr>\n",
       "      <th>4</th>\n",
       "      <td>5</td>\n",
       "      <td>Asus N551JK-XO076H Laptop</td>\n",
       "      <td>1500.0</td>\n",
       "    </tr>\n",
       "  </tbody>\n",
       "</table>\n",
       "</div>"
      ],
      "text/plain": [
       "   Id                                            Name  UnitPrice\n",
       "0   1                         Build your own computer     1200.0\n",
       "1   2  Digital Storm VANQUISH 3 Custom Performance PC     1259.0\n",
       "2   3             Lenovo IdeaCentre 600 All-in-One PC      500.0\n",
       "3   4                       Apple MacBook Pro 13-inch     1800.0\n",
       "4   5                       Asus N551JK-XO076H Laptop     1500.0"
      ]
     },
     "execution_count": 11,
     "metadata": {},
     "output_type": "execute_result"
    }
   ],
   "source": [
    "products.head()"
   ]
  },
  {
   "cell_type": "markdown",
   "id": "e4cb005a",
   "metadata": {},
   "source": [
    "##### Rating data"
   ]
  },
  {
   "cell_type": "code",
   "execution_count": 12,
   "id": "ab43f148",
   "metadata": {},
   "outputs": [],
   "source": [
    "ratings=pd.read_json(\"data/ratings.json\")"
   ]
  },
  {
   "cell_type": "code",
   "execution_count": 13,
   "id": "e86f251a",
   "metadata": {},
   "outputs": [
    {
     "data": {
      "text/plain": [
       "523016"
      ]
     },
     "execution_count": 13,
     "metadata": {},
     "output_type": "execute_result"
    }
   ],
   "source": [
    "ratings.size"
   ]
  },
  {
   "cell_type": "code",
   "execution_count": 14,
   "id": "f5c01e45",
   "metadata": {},
   "outputs": [
    {
     "data": {
      "text/html": [
       "<div>\n",
       "<style scoped>\n",
       "    .dataframe tbody tr th:only-of-type {\n",
       "        vertical-align: middle;\n",
       "    }\n",
       "\n",
       "    .dataframe tbody tr th {\n",
       "        vertical-align: top;\n",
       "    }\n",
       "\n",
       "    .dataframe thead th {\n",
       "        text-align: right;\n",
       "    }\n",
       "</style>\n",
       "<table border=\"1\" class=\"dataframe\">\n",
       "  <thead>\n",
       "    <tr style=\"text-align: right;\">\n",
       "      <th></th>\n",
       "      <th>CustomerID</th>\n",
       "      <th>ProductID</th>\n",
       "      <th>Rate</th>\n",
       "      <th>CreateDate</th>\n",
       "    </tr>\n",
       "  </thead>\n",
       "  <tbody>\n",
       "    <tr>\n",
       "      <th>0</th>\n",
       "      <td>103416</td>\n",
       "      <td>619</td>\n",
       "      <td>1</td>\n",
       "      <td>2018/01/01 01:36:30</td>\n",
       "    </tr>\n",
       "    <tr>\n",
       "      <th>1</th>\n",
       "      <td>103654</td>\n",
       "      <td>411</td>\n",
       "      <td>1</td>\n",
       "      <td>2018/01/01 01:36:35</td>\n",
       "    </tr>\n",
       "    <tr>\n",
       "      <th>2</th>\n",
       "      <td>103954</td>\n",
       "      <td>298</td>\n",
       "      <td>3</td>\n",
       "      <td>2018/01/01 01:36:38</td>\n",
       "    </tr>\n",
       "    <tr>\n",
       "      <th>3</th>\n",
       "      <td>103672</td>\n",
       "      <td>361</td>\n",
       "      <td>5</td>\n",
       "      <td>2018/01/01 01:37:15</td>\n",
       "    </tr>\n",
       "    <tr>\n",
       "      <th>4</th>\n",
       "      <td>103960</td>\n",
       "      <td>536</td>\n",
       "      <td>5</td>\n",
       "      <td>2018/01/01 02:36:25</td>\n",
       "    </tr>\n",
       "  </tbody>\n",
       "</table>\n",
       "</div>"
      ],
      "text/plain": [
       "   CustomerID  ProductID  Rate           CreateDate\n",
       "0      103416        619     1  2018/01/01 01:36:30\n",
       "1      103654        411     1  2018/01/01 01:36:35\n",
       "2      103954        298     3  2018/01/01 01:36:38\n",
       "3      103672        361     5  2018/01/01 01:37:15\n",
       "4      103960        536     5  2018/01/01 02:36:25"
      ]
     },
     "execution_count": 14,
     "metadata": {},
     "output_type": "execute_result"
    }
   ],
   "source": [
    "ratings.head()"
   ]
  },
  {
   "cell_type": "code",
   "execution_count": 15,
   "id": "6dfceb44",
   "metadata": {},
   "outputs": [
    {
     "name": "stdout",
     "output_type": "stream",
     "text": [
      "5    35512\n",
      "4    30458\n",
      "1    27876\n",
      "2    21070\n",
      "3    15838\n",
      "Name: Rate, dtype: int64\n"
     ]
    }
   ],
   "source": [
    "# Distribution of ratings\n",
    "print(ratings['Rate'].value_counts())"
   ]
  },
  {
   "cell_type": "code",
   "execution_count": 25,
   "id": "5a005830",
   "metadata": {},
   "outputs": [
    {
     "data": {
      "text/plain": [
       "<AxesSubplot:xlabel='Rate', ylabel='count'>"
      ]
     },
     "execution_count": 25,
     "metadata": {},
     "output_type": "execute_result"
    },
    {
     "data": {
      "image/png": "[encoded data removed]",
      "text/plain": [
       "<Figure size 432x288 with 1 Axes>"
      ]
     },
     "metadata": {
      "needs_background": "light"
     },
     "output_type": "display_data"
    }
   ],
   "source": [
    "import seaborn as sns\n",
    "sns.countplot(x=ratings['Rate'])"
   ]
  },
  {
   "cell_type": "code",
   "execution_count": null,
   "id": "807ccb5e",
   "metadata": {},
   "outputs": [],
   "source": []
  },
  {
   "cell_type": "code",
   "execution_count": 16,
   "id": "d18b4124",
   "metadata": {},
   "outputs": [
    {
     "data": {
      "text/html": [
       "<div>\n",
       "<style scoped>\n",
       "    .dataframe tbody tr th:only-of-type {\n",
       "        vertical-align: middle;\n",
       "    }\n",
       "\n",
       "    .dataframe tbody tr th {\n",
       "        vertical-align: top;\n",
       "    }\n",
       "\n",
       "    .dataframe thead th {\n",
       "        text-align: right;\n",
       "    }\n",
       "</style>\n",
       "<table border=\"1\" class=\"dataframe\">\n",
       "  <thead>\n",
       "    <tr style=\"text-align: right;\">\n",
       "      <th></th>\n",
       "      <th>CustomerID</th>\n",
       "      <th>ProductID</th>\n",
       "      <th>Rate</th>\n",
       "    </tr>\n",
       "  </thead>\n",
       "  <tbody>\n",
       "    <tr>\n",
       "      <th>0</th>\n",
       "      <td>103416</td>\n",
       "      <td>619</td>\n",
       "      <td>1</td>\n",
       "    </tr>\n",
       "    <tr>\n",
       "      <th>1</th>\n",
       "      <td>103654</td>\n",
       "      <td>411</td>\n",
       "      <td>1</td>\n",
       "    </tr>\n",
       "    <tr>\n",
       "      <th>2</th>\n",
       "      <td>103954</td>\n",
       "      <td>298</td>\n",
       "      <td>3</td>\n",
       "    </tr>\n",
       "    <tr>\n",
       "      <th>3</th>\n",
       "      <td>103672</td>\n",
       "      <td>361</td>\n",
       "      <td>5</td>\n",
       "    </tr>\n",
       "    <tr>\n",
       "      <th>4</th>\n",
       "      <td>103960</td>\n",
       "      <td>536</td>\n",
       "      <td>5</td>\n",
       "    </tr>\n",
       "  </tbody>\n",
       "</table>\n",
       "</div>"
      ],
      "text/plain": [
       "   CustomerID  ProductID  Rate\n",
       "0      103416        619     1\n",
       "1      103654        411     1\n",
       "2      103954        298     3\n",
       "3      103672        361     5\n",
       "4      103960        536     5"
      ]
     },
     "execution_count": 16,
     "metadata": {},
     "output_type": "execute_result"
    }
   ],
   "source": [
    "#Drop the CreateDate column as it is not needed\n",
    "ratings.drop('CreateDate', inplace=True, axis=1)\n",
    "ratings.head()"
   ]
  },
  {
   "cell_type": "markdown",
   "id": "c38688f8",
   "metadata": {},
   "source": [
    "#### Build recommender system"
   ]
  },
  {
   "cell_type": "code",
   "execution_count": 17,
   "id": "2b288a5c",
   "metadata": {},
   "outputs": [],
   "source": [
    "# Prepare data for surprise: build a Suprise reader object\n",
    "from surprise import Reader\n",
    "reader = Reader(rating_scale=(1, 5))"
   ]
  },
  {
   "cell_type": "code",
   "execution_count": 18,
   "id": "96fb8faf",
   "metadata": {},
   "outputs": [],
   "source": [
    "# Load `ratings` into a Surprise Dataset\n",
    "from surprise import Dataset\n",
    "rec_data = Dataset.load_from_df(ratings,\n",
    "                                reader)"
   ]
  },
  {
   "cell_type": "code",
   "execution_count": 19,
   "id": "e00fd310",
   "metadata": {},
   "outputs": [],
   "source": [
    "# Create a 80:20 train-test split and set the random state to 7\n",
    "from surprise.model_selection import train_test_split\n",
    "trainset, testset = train_test_split(rec_data, test_size=.2, random_state=7)\n"
   ]
  },
  {
   "cell_type": "code",
   "execution_count": 20,
   "id": "7f360eb5",
   "metadata": {},
   "outputs": [
    {
     "name": "stdout",
     "output_type": "stream",
     "text": [
      "Computing the msd similarity matrix...\n",
      "Done computing similarity matrix.\n"
     ]
    },
    {
     "data": {
      "text/plain": [
       "<surprise.prediction_algorithms.knns.KNNBasic at 0x7ff602ce5b80>"
      ]
     },
     "execution_count": 20,
     "metadata": {},
     "output_type": "execute_result"
    }
   ],
   "source": [
    "# Use KNNBasic from Surprise to train a collaborative filter\n",
    "from surprise import KNNBasic\n",
    "recommender = KNNBasic()\n",
    "recommender.fit(trainset)"
   ]
  },
  {
   "cell_type": "code",
   "execution_count": 21,
   "id": "8a2917cd",
   "metadata": {},
   "outputs": [
    {
     "name": "stdout",
     "output_type": "stream",
     "text": [
      "RMSE: 1.1021\n"
     ]
    },
    {
     "data": {
      "text/plain": [
       "1.1021485303764857"
      ]
     },
     "execution_count": 21,
     "metadata": {},
     "output_type": "execute_result"
    }
   ],
   "source": [
    "# Evaluate the recommender system\n",
    "from surprise import accuracy\n",
    "predictions = recommender.test(testset)\n",
    "accuracy.rmse(predictions)"
   ]
  },
  {
   "cell_type": "code",
   "execution_count": 28,
   "id": "bb7298a6",
   "metadata": {},
   "outputs": [
    {
     "data": {
      "text/plain": [
       "(103441, 450, 5.0)"
      ]
     },
     "execution_count": 28,
     "metadata": {},
     "output_type": "execute_result"
    }
   ],
   "source": [
    "testset[0]"
   ]
  },
  {
   "cell_type": "code",
   "execution_count": 29,
   "id": "0edf7adf",
   "metadata": {},
   "outputs": [
    {
     "name": "stdout",
     "output_type": "stream",
     "text": [
      "3.1877575212948\n"
     ]
    }
   ],
   "source": [
    "# Prediction on a user 103441 who gave the product 450 a rating of 5\n",
    "print(recommender.predict('103441', '450').est)"
   ]
  },
  {
   "cell_type": "code",
   "execution_count": 30,
   "id": "04b7188d",
   "metadata": {},
   "outputs": [],
   "source": [
    "#Try other algorithms\n",
    "from surprise import NormalPredictor\n",
    "from surprise import KNNWithMeans\n",
    "from surprise import KNNWithZScore\n",
    "from surprise import KNNBaseline\n",
    "from surprise import SVD\n",
    "from surprise import BaselineOnly\n",
    "from surprise import SVDpp\n",
    "from surprise import NMF\n",
    "from surprise import SlopeOne\n",
    "from surprise import CoClustering\n",
    "\n",
    "algorithms = [SVD(), SlopeOne(), NMF(), NormalPredictor(),\n",
    "              KNNBaseline(),KNNWithMeans(), KNNWithZScore(),\n",
    "              BaselineOnly(), CoClustering()]"
   ]
  },
  {
   "cell_type": "code",
   "execution_count": 33,
   "id": "1739a5a8",
   "metadata": {
    "scrolled": true
   },
   "outputs": [
    {
     "name": "stdout",
     "output_type": "stream",
     "text": [
      "Attempting:  [<surprise.prediction_algorithms.matrix_factorization.SVD object at 0x7ff5ec0aba30>, <surprise.prediction_algorithms.slope_one.SlopeOne object at 0x7ff5ec0ab430>, <surprise.prediction_algorithms.matrix_factorization.NMF object at 0x7ff5ec0abb50>, <surprise.prediction_algorithms.random_pred.NormalPredictor object at 0x7ff5ec0ab820>, <surprise.prediction_algorithms.knns.KNNBaseline object at 0x7ff5ec0ab4f0>, <surprise.prediction_algorithms.knns.KNNWithMeans object at 0x7ff5ec0ab400>, <surprise.prediction_algorithms.knns.KNNWithZScore object at 0x7ff5ec0abdc0>, <surprise.prediction_algorithms.baseline_only.BaselineOnly object at 0x7ff5ec0aba90>, <surprise.prediction_algorithms.co_clustering.CoClustering object at 0x7ff5ec0b3250>] \n",
      "\n",
      "\n",
      "\n",
      "Starting:  <surprise.prediction_algorithms.matrix_factorization.SVD object at 0x7ff5ec0aba30>\n",
      "RMSE: 1.2014\n",
      "Starting:  <surprise.prediction_algorithms.slope_one.SlopeOne object at 0x7ff5ec0ab430>\n",
      "RMSE: 1.0598\n",
      "Starting:  <surprise.prediction_algorithms.matrix_factorization.NMF object at 0x7ff5ec0abb50>\n",
      "RMSE: 1.0702\n",
      "Starting:  <surprise.prediction_algorithms.random_pred.NormalPredictor object at 0x7ff5ec0ab820>\n",
      "RMSE: 1.9648\n",
      "Starting:  <surprise.prediction_algorithms.knns.KNNBaseline object at 0x7ff5ec0ab4f0>\n",
      "Estimating biases using als...\n",
      "Computing the msd similarity matrix...\n",
      "Done computing similarity matrix.\n",
      "RMSE: 1.0786\n",
      "Starting:  <surprise.prediction_algorithms.knns.KNNWithMeans object at 0x7ff5ec0ab400>\n",
      "Computing the msd similarity matrix...\n",
      "Done computing similarity matrix.\n",
      "RMSE: 1.0779\n",
      "Starting:  <surprise.prediction_algorithms.knns.KNNWithZScore object at 0x7ff5ec0abdc0>\n",
      "Computing the msd similarity matrix...\n",
      "Done computing similarity matrix.\n",
      "RMSE: 1.0827\n",
      "Starting:  <surprise.prediction_algorithms.baseline_only.BaselineOnly object at 0x7ff5ec0aba90>\n",
      "Estimating biases using als...\n",
      "RMSE: 1.0569\n",
      "Starting:  <surprise.prediction_algorithms.co_clustering.CoClustering object at 0x7ff5ec0b3250>\n",
      "RMSE: 1.0675\n",
      "\n",
      "\tDONE\n",
      "\n",
      "-------------------------------------------------\n",
      "         Algorithm      RMSE\n",
      "0              SVD  1.201366\n",
      "1         SlopeOne  1.059767\n",
      "2              NMF  1.070244\n",
      "3  NormalPredictor  1.964785\n",
      "4      KNNBaseline  1.078623\n",
      "5     KNNWithMeans  1.077890\n",
      "6    KNNWithZScore  1.082702\n",
      "7     BaselineOnly  1.056871\n",
      "8     CoClustering  1.067525\n"
     ]
    }
   ],
   "source": [
    "print (\"Attempting: \", str(algorithms), '\\n\\n\\n')\n",
    "benchmark=[]    \n",
    "for algorithm in algorithms:\n",
    "    print(\"Starting: \" ,str(algorithm))\n",
    "\n",
    "    algorithm.fit(trainset)\n",
    "\n",
    "    predictions=algorithm.test(testset)\n",
    "\n",
    "    score_rmse=accuracy.rmse(predictions)\n",
    "\n",
    "    metrics=[str(algorithm).split(' ')[0].split('.')[-1],score_rmse]\n",
    "\n",
    "    benchmark.append(metrics)   \n",
    "\n",
    "print ('\\n\\tDONE\\n')\n",
    "report=pd.DataFrame(benchmark,columns=[\"Algorithm\",\"RMSE\"])\n",
    "report.set_index(\"Algorithm\")\n",
    "print(\"-------------------------------------------------\")\n",
    "print(report)"
   ]
  },
  {
   "cell_type": "markdown",
   "id": "9938467f",
   "metadata": {},
   "source": [
    "The algorithm `BaselineOnly` has the lowest RMSE score"
   ]
  },
  {
   "cell_type": "code",
   "execution_count": 34,
   "id": "d3e3d854",
   "metadata": {},
   "outputs": [
    {
     "name": "stdout",
     "output_type": "stream",
     "text": [
      "Estimating biases using als...\n"
     ]
    },
    {
     "data": {
      "text/plain": [
       "<surprise.prediction_algorithms.baseline_only.BaselineOnly at 0x7ff60318a190>"
      ]
     },
     "execution_count": 34,
     "metadata": {},
     "output_type": "execute_result"
    }
   ],
   "source": [
    "best_recommender = BaselineOnly()\n",
    "best_recommender.fit(trainset)"
   ]
  },
  {
   "cell_type": "code",
   "execution_count": null,
   "id": "527d68c8",
   "metadata": {},
   "outputs": [],
   "source": []
  }
 ],
 "metadata": {
  "kernelspec": {
   "display_name": "Python 3 (ipykernel)",
   "language": "python",
   "name": "python3"
  },
  "language_info": {
   "codemirror_mode": {
    "name": "ipython",
    "version": 3
   },
   "file_extension": ".py",
   "mimetype": "text/x-python",
   "name": "python",
   "nbconvert_exporter": "python",
   "pygments_lexer": "ipython3",
   "version": "3.8.8"
  }
 },
 "nbformat": 4,
 "nbformat_minor": 5
}
